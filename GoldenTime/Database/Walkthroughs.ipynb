{
    "metadata": {
        "kernelspec": {
            "name": "SQL",
            "display_name": "SQL",
            "language": "sql"
        },
        "language_info": {
            "name": "sql",
            "version": ""
        }
    },
    "nbformat_minor": 2,
    "nbformat": 4,
    "cells": [
        {
            "cell_type": "markdown",
            "source": [
                "Getting out all users."
            ],
            "metadata": {
                "azdata_cell_guid": "7ab7a34d-235d-4917-81a2-a7556f8d9e00"
            },
            "attachments": {}
        },
        {
            "cell_type": "code",
            "source": [
                "select * from users"
            ],
            "metadata": {
                "azdata_cell_guid": "576385c0-f7f1-43bd-8d5e-118e6cb6a2de"
            },
            "outputs": [],
            "execution_count": null
        }
    ]
}